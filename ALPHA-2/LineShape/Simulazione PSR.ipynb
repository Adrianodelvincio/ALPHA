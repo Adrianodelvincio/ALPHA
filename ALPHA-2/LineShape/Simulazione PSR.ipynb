{
 "cells": [
  {
   "cell_type": "code",
   "execution_count": 3,
   "id": "46769d19",
   "metadata": {},
   "outputs": [],
   "source": [
    "import numpy as np\n",
    "import matplotlib.pyplot as plt"
   ]
  },
  {
   "cell_type": "markdown",
   "id": "a8576e32-33f5-450f-a2c0-9d68d089919c",
   "metadata": {},
   "source": [
    "Inizialize some useful quantities:\n",
    "1. expected magnetic field decay on average: **mufdecay**\n",
    "2. standard deviation of the magnetic field drift: **sigfdecay**\n",
    "3. typical period between runs"
   ]
  },
  {
   "cell_type": "code",
   "execution_count": 8,
   "id": "7b2ed2a4",
   "metadata": {},
   "outputs": [
    {
     "name": "stdout",
     "output_type": "stream",
     "text": [
      "expected magnetic field decay in kHz/seconds [0.020555555555555556, 0.02013888888888889, 0.020666666666666667, 0.019805555555555555]\n",
      "mean decay of the magnetic field:  0.020291666666666666\n",
      "0.020292 +/- 0.000343\n"
     ]
    }
   ],
   "source": [
    "expfdecay = [ i/3600 for i in [74,72.5,74.4,71.3]] # kHz / s\n",
    "print(\"expected magnetic field decay in kHz/seconds\" , expfdecay)\n",
    "mufdecay = np.mean(expfdecay)\n",
    "print(\"mean decay of the magnetic field: \", mufdecay)\n",
    "sigfdecay = np.std(expfdecay)\n",
    "print(f'%f +/- %f'%(mufdecay,sigfdecay))\n",
    "\n",
    "# typical period between runs: 1h30' to 1h75'\n",
    "tdecaymin = 3600* 1.5  # in s\n",
    "tdecaymax = 3600* 1.75 # in s\n",
    "tdecaysig = 5*60 # in s"
   ]
  },
  {
   "cell_type": "code",
   "execution_count": 10,
   "id": "1cb0c9bd",
   "metadata": {},
   "outputs": [
    {
     "name": "stdout",
     "output_type": "stream",
     "text": [
      "pretrigger:  30.0 54.0\n"
     ]
    }
   ],
   "source": [
    "### START TRIAL \n",
    "nruns = 1\n",
    "wait0 = 320  # s, every other run \n",
    "tdwell = 8  # s\n",
    "nstepssw = 24\n",
    "nstepscl = 16\n",
    "fstep = 5   # kHz\n",
    "pretrigger_min = 0.25*nstepssw*fstep # kHz\n",
    "pretrigger_max = 0.45*nstepssw*fstep # kHz\n",
    "print(\"pretrigger: \", pretrigger_min, pretrigger_max)\n",
    "\n",
    "# signal and background stat \n",
    "nuS = 100   # N\n",
    "rateB = 0.5 # Hz\n",
    "\n",
    "hfscpt = 1420405.75 # kHz (published measurement uncertainty: 500 kHz; ECR uncertainty: 100 kHz)\n",
    "fbc0 =   28344100.00 # kHz = 28.3 GHz"
   ]
  },
  {
   "cell_type": "code",
   "execution_count": 4,
   "id": "53697377",
   "metadata": {},
   "outputs": [
    {
     "name": "stdout",
     "output_type": "stream",
     "text": [
      "dilution (series-dependent) =  0.9675333333333334\n"
     ]
    }
   ],
   "source": [
    "hfs = hfscpt + np.random.uniform(-20,40)\n",
    "fad0 = fbc0 + hfs\n",
    "fdecay = np.random.normal(mufdecay,sigfdecay)\n",
    "    \n",
    "# !!! after setting the window there is still a variation due to further decay while the sweep is ongoing\n",
    "# !!! this should cancel out in the difference (does it?) if hfs = hfscpt, otherwise it cancels only partially \n",
    "# !!! it should be a dilution effect: if hfs>hfscpt (hfs<hfscpt) , then ad decays more (less), and the measured hfs is smaller than true hfs, so it gets closer to hfscpt in both cases (check)\n",
    "# !!! dilution is (check): exphfs-hfscpt = (hfs-hfscpt)-(hfs-hfscpt)/fstep*tdwell*mufdecay = (hfs-hfscpt)*(1-1/fstep*tdwell*mufdecay) = (hfs-hfscpt)*D\n",
    "D = (1-1/fstep*tdwell*mufdecay)\n",
    "print(\"dilution (series-dependent) = \",D)"
   ]
  },
  {
   "cell_type": "code",
   "execution_count": 21,
   "id": "66b76433",
   "metadata": {},
   "outputs": [],
   "source": [
    "lineshape_length_limit = 300 # kHz. Really a lot. Only used in intermediate steps. \n",
    "\n",
    "def lineshape(x,offset):\n",
    "\n",
    "    frise = 40\n",
    "    ffall = 120\n",
    "    \n",
    "    xp = x-offset-frise\n",
    "    \n",
    "    if (xp<0):\n",
    "        y=1+xp/frise\n",
    "    else :\n",
    "        y=1-xp/ffall\n",
    "    \n",
    "    if (y<0):\n",
    "        y=0\n",
    "    \n",
    "    return y\n",
    "\n",
    "\n",
    "def piecewise(x,func,bins):\n",
    "    \n",
    "    return func(bins[np.max(np.argwhere(x>=bins))])\n",
    "\n",
    "\n",
    "def accrej(fun, N, xmin, xmax, ymax=1):\n",
    "    \n",
    "    data = []\n",
    "    num = 0\n",
    "    Np = np.random.poisson(N)\n",
    "    while (num < Np):\n",
    "        x = np.random.uniform(xmin,xmax)\n",
    "        y = np.random.uniform(0,ymax)\n",
    "        if (y<fun(x)):\n",
    "            data += [x]\n",
    "            num +=1\n",
    "    \n",
    "    return data"
   ]
  },
  {
   "cell_type": "code",
   "execution_count": 96,
   "id": "7f67c93a",
   "metadata": {},
   "outputs": [],
   "source": [
    "tdecay=0\n",
    "for i in range(nruns):\n",
    "    \n",
    "    wait = wait0 * i%2\n",
    "    \n",
    "    tinterval = 0\n",
    "    if (i>0):\n",
    "        tinterval = np.random.uniform(tdecaymin,tdecaymax)\n",
    "    \n",
    "    tdecay += tinterval\n",
    "    bcdelay = tdecay + wait \n",
    "    addelay = bcdelay + tdwell*(nstepssw+nstepscl)\n",
    "    # neglecting further decay after the start of the sweep; see dilution effect discussed above (systematic uncertainty)\n",
    "    \n",
    "    fbc = fbc0 - mufdecay*bcdelay\n",
    "    fad = fad0 - mufdecay*addelay\n",
    "    \n",
    "    # now can define lineshape \n",
    "    line_bc = lambda f : lineshape(f,offset=fbc)\n",
    "    line_ad = lambda f : lineshape(f,offset=fad)\n",
    "       \n",
    "    # the operator now sets the windows \n",
    "    # special treatment for the first run (ECR based + low stat attempts)\n",
    "    if (i==0):\n",
    "        pretrigger = np.random.uniform(pretrigger_min,pretrigger_max)\n",
    "        bcwin_start0 = fbc0 - pretrigger\n",
    "\n",
    "    # tdecay estimated by operator (overrides ECR)\n",
    "    meastdecay = tdecay + np.random.normal(0,tdecaysig)\n",
    "    \n",
    "    # assuming there's no uw-frequency jitter . calibration and reproducibility are \"perfect\"\n",
    "    \n",
    "    step_limit = int(np.floor(lineshape_length_limit/fstep))\n",
    "    \n",
    "    bcwin_start = bcwin_start0 - meastdecay*fdecay     \n",
    "    adwin_start = bcwin_start + hfscpt\n",
    "\n",
    "    # now can build linspaces for generation \n",
    "    ticks_bc = np.linspace(bcwin_start,bcwin_start + step_limit*fstep,step_limit+1)\n",
    "    ticks_ad = np.linspace(adwin_start,adwin_start + step_limit*fstep,step_limit+1)\n",
    "\n",
    "    pdf_bc = lambda f : piecewise(f,line_bc,ticks_bc)\n",
    "    pdf_ad = lambda f : piecewise(f,line_ad,ticks_ad)\n",
    "\n",
    "    # the actual histograms in the time domain\n",
    "    bins_bc = np.linspace(0,tdwell*nstepssw,nstepssw+1) \n",
    "    bins_ad = np.linspace(0,tdwell*nstepssw,nstepssw+1) \n",
    "    freq_bc = ticks_bc[:len(bins_bc)] # to keep track of the relationship between times and frequencies\n",
    "    freq_ad = ticks_ad[:len(bins_ad)]\n",
    "\n",
    "    \n",
    "    # now can sample lineshapes    \n",
    "    data_bc = accrej(pdf_bc,nuS,ticks_bc[0],ticks_bc[-1])\n",
    "    signal_bc,_ = np.histogram(data_bc,ticks_bc)\n",
    "    hS_bc = signal_bc[:nstepssw]\n",
    "    overflow_bc = np.sum(signal_bc[nstepssw:])\n",
    "    # add cosmics background \n",
    "    hB_bc = [ np.random.poisson(rateB*tdwell) for i in hS_bc]\n",
    "    hist_bc = hS_bc + hB_bc\n",
    "    \n",
    "    data_ad = accrej(pdf_ad,nuS,ticks_ad[0],ticks_ad[-1])\n",
    "    signal_ad,_ = np.histogram(data_ad,ticks_ad)\n",
    "    hS_ad = signal_ad[:nstepssw]\n",
    "    overflow_ad = np.sum(signal_ad[nstepssw:])\n",
    "    # add cosmics background \n",
    "    hB_ad = [ np.random.poisson(rateB*tdwell) for i in hS_ad]\n",
    "    hist_ad = hS_ad + hB_ad\n",
    "    \n",
    "    \n",
    "\n",
    "\n",
    "    "
   ]
  },
  {
   "cell_type": "code",
   "execution_count": 64,
   "id": "590665d8",
   "metadata": {},
   "outputs": [
    {
     "data": {
      "text/plain": [
       "[<matplotlib.lines.Line2D at 0x7f6adde37250>]"
      ]
     },
     "execution_count": 64,
     "metadata": {},
     "output_type": "execute_result"
    },
    {
     "data": {
      "image/png": "[encoded data removed]",
      "text/plain": [
       "<Figure size 432x288 with 1 Axes>"
      ]
     },
     "metadata": {
      "needs_background": "light"
     },
     "output_type": "display_data"
    }
   ],
   "source": [
    "x = np.linspace(ticks_ad[0], ticks_ad[-1], 300+1)\n",
    "y = [ pdf_ad(f) for f in x ]\n",
    "plt.plot(x, y, color='red')"
   ]
  },
  {
   "cell_type": "code",
   "execution_count": 93,
   "id": "8c949d52",
   "metadata": {},
   "outputs": [
    {
     "data": {
      "text/plain": [
       "<BarContainer object of 24 artists>"
      ]
     },
     "execution_count": 93,
     "metadata": {},
     "output_type": "execute_result"
    },
    {
     "data": {
      "image/png": "[encoded data removed]",
      "text/plain": [
       "<Figure size 432x288 with 1 Axes>"
      ]
     },
     "metadata": {
      "needs_background": "light"
     },
     "output_type": "display_data"
    }
   ],
   "source": [
    "fbar = 0.8\n",
    "\n",
    "bwid=(bins_ad[1]-bins_ad[0])\n",
    "plt.bar((bins_ad[1:]+bins_ad[:-1])*0.5+bwid*(1-fbar)/2,hist_ad,bwid*fbar)\n",
    "\n",
    "bwid=(bins_bc[1]-bins_bc[0])\n",
    "plt.bar((bins_bc[1:]+bins_bc[:-1])*0.5-bwid*(1-fbar)/2,hist_bc,bwid*fbar)"
   ]
  },
  {
   "cell_type": "code",
   "execution_count": 92,
   "id": "5ba2867c",
   "metadata": {},
   "outputs": [
    {
     "data": {
      "text/plain": [
       "<BarContainer object of 24 artists>"
      ]
     },
     "execution_count": 92,
     "metadata": {},
     "output_type": "execute_result"
    },
    {
     "data": {
      "image/png": "[encoded data removed]",
      "text/plain": [
       "<Figure size 432x288 with 1 Axes>"
      ]
     },
     "metadata": {
      "needs_background": "light"
     },
     "output_type": "display_data"
    }
   ],
   "source": [
    "fbar = 0.8\n",
    "\n",
    "bwid=(freq_ad[1]-freq_ad[0])\n",
    "plt.bar((freq_ad[1:]+freq_ad[:-1])*0.5,hist_ad,bwid*fbar)\n"
   ]
  },
  {
   "cell_type": "code",
   "execution_count": 91,
   "id": "e8b0bfdb",
   "metadata": {},
   "outputs": [
    {
     "data": {
      "text/plain": [
       "<BarContainer object of 24 artists>"
      ]
     },
     "execution_count": 91,
     "metadata": {},
     "output_type": "execute_result"
    },
    {
     "data": {
      "image/png": "[encoded data removed]",
      "text/plain": [
       "<Figure size 432x288 with 1 Axes>"
      ]
     },
     "metadata": {
      "needs_background": "light"
     },
     "output_type": "display_data"
    }
   ],
   "source": [
    "bwid=(freq_bc[1]-freq_bc[0])\n",
    "plt.bar((freq_bc[1:]+freq_bc[:-1])*0.5,hist_bc,bwid*fbar)"
   ]
  },
  {
   "cell_type": "code",
   "execution_count": 94,
   "id": "374cdfc8",
   "metadata": {},
   "outputs": [
    {
     "data": {
      "text/plain": [
       "192"
      ]
     },
     "execution_count": 94,
     "metadata": {},
     "output_type": "execute_result"
    }
   ],
   "source": [
    "24*8"
   ]
  }
 ],
 "metadata": {
  "@webio": {
   "lastCommId": null,
   "lastKernelId": null
  },
  "kernelspec": {
   "display_name": "Python 3 (ipykernel)",
   "language": "python",
   "name": "python3"
  },
  "language_info": {
   "codemirror_mode": {
    "name": "ipython",
    "version": 3
   },
   "file_extension": ".py",
   "mimetype": "text/x-python",
   "name": "python",
   "nbconvert_exporter": "python",
   "pygments_lexer": "ipython3",
   "version": "3.10.12"
  }
 },
 "nbformat": 4,
 "nbformat_minor": 5
}
