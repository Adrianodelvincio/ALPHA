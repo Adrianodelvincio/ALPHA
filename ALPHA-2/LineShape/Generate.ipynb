{
 "cells": [
  {
   "cell_type": "code",
   "execution_count": 1,
   "id": "91fcb73e-54d8-4063-99a5-d8498982346e",
   "metadata": {},
   "outputs": [
    {
     "name": "stdout",
     "output_type": "stream",
     "text": [
      "Welcome to JupyROOT 6.28/06\n"
     ]
    },
    {
     "data": {
      "text/plain": [
       "0"
      ]
     },
     "execution_count": 1,
     "metadata": {},
     "output_type": "execute_result"
    }
   ],
   "source": [
    "import ROOT\n",
    "import numpy as np\n",
    "from matplotlib import pyplot as plt\n",
    "import array\n",
    "import os, sys\n",
    "from multiprocessing import Pool\n",
    "from matplotlib import rcParams\n",
    "import time\n",
    "%jsroot on\n",
    "rcParams['axes.titlepad'] = 20 \n",
    "ROOT.gInterpreter.ProcessLine(\".L LoopLineShape.cpp\")\n",
    "ROOT.gInterpreter.ProcessLine(\".L PSRanalysis.cpp\")"
   ]
  },
  {
   "cell_type": "code",
   "execution_count": 2,
   "id": "8c499347-2b3d-4e93-86f2-1c1e4076eb0d",
   "metadata": {},
   "outputs": [
    {
     "name": "stdout",
     "output_type": "stream",
     "text": [
      "\n",
      "\n",
      "Nstack        20\n",
      "NHbar         20.58\n",
      "Repetition    5\n",
      "TimeStep      8\n",
      "SweepStep     24\n",
      "TotalStep     50\n",
      "BinBefore     3\n",
      "FrequencyStep 5\n",
      "Efficiency    0.55\n",
      "CosmicRate    0.046\n",
      "x_cb_start    0\n",
      "x_cb_end      145\n",
      "x_cb_peak     45\n",
      "x_da_start    1.42e+06\n",
      "x_da_peak     1.42004e+06\n",
      "x_da_end      1.42014e+06\n",
      "C             0.5\n",
      "pwall_ad      1\n",
      "pwall_cb      1\n",
      "delay         4.67372e-310\n",
      "Bdrift        1\n",
      "Cruijff Paramters\t\t\n",
      "x0_cb     4.67372e-310\n",
      "sigma0_cb\t8.76\n",
      "sigma1_cbì 38.55\n",
      "k0_cb      0.23\n",
      "k1_cb      0.02\n",
      "Norm_cb    274.22\n",
      "sigma0_da  8.76\n",
      "sigma1_da  38.55\n",
      "k0_da      0.23\n",
      "k1_da      0.02\n",
      "Norm_da    274.22\n",
      "\n",
      "\n",
      "Save scanMvaData3/run1_0.root\n",
      "Save scanMvaData3/run2_0.root\n",
      "Save scanMvaData3/run1_1.root\n",
      "Save scanMvaData3/run2_1.root\n",
      "Save scanMvaData3/run1_2.root\n",
      "Save scanMvaData3/run2_2.root\n",
      "Save scanMvaData3/run1_3.root\n",
      "Save scanMvaData3/run2_3.root\n",
      "Save scanMvaData3/run1_4.root\n",
      "Save scanMvaData3/run2_4.root\n",
      "Save scanMvaData3/run1_5.root\n",
      "Save scanMvaData3/run2_5.root\n",
      "Save scanMvaData3/run1_6.root\n",
      "Save scanMvaData3/run2_6.root\n",
      "Save scanMvaData3/run1_7.root\n",
      "Save scanMvaData3/run2_7.root\n",
      "Save scanMvaData3/run1_8.root\n",
      "Save scanMvaData3/run2_8.root\n",
      "Save scanMvaData3/run1_9.root\n",
      "Save scanMvaData3/run2_9.root\n"
     ]
    }
   ],
   "source": [
    "folder = \"scanMvaData3/\" # Data directory\n",
    "ROOT.LoopLineShape(10,folder,\"false\", 0, 1,\"ToyConfiguration.txt\")"
   ]
  },
  {
   "cell_type": "code",
   "execution_count": 3,
   "id": "e9dc9c80-083b-4eb1-bceb-54244421d9e1",
   "metadata": {},
   "outputs": [
    {
     "name": "stdout",
     "output_type": "stream",
     "text": [
      "0 onset cb: 32.5564\n",
      "320 onset da: 1.41975e+06\n",
      "5375.28 onset cb: -5302.73\n",
      "5695.28 onset da: 1.41438e+06\n",
      "11160.9 onset cb: -11088.4\n",
      "11480.9 onset da: 1.40859e+06\n",
      "17712.1 onset cb: -17639.5\n",
      "18032.1 onset da: 1.40204e+06\n",
      "23917.8 onset cb: -23845.3\n",
      "24237.8 onset da: 1.39583e+06\n"
     ]
    },
    {
     "name": "stderr",
     "output_type": "stream",
     "text": [
      "Info in <TCanvas::Print>: pdf file PSR.pdf has been created\n"
     ]
    }
   ],
   "source": [
    "folder = \"scanMvaData3/\" # Data directory\n",
    "Ntrial = 100\n",
    "Nfilter = 6\n",
    "Nsigma = 7/2\n",
    "fraction = 20/100\n",
    "Nthr =  4\n",
    "Nthr1 = 4\n",
    "Nthr2 = 4\n",
    "ROOT.PSRanalysis(folder,\"ToyConfiguration.txt\", Nfilter, fraction, Nsigma, Nthr, Nthr1, Nthr2, \"Plot/\")"
   ]
  }
 ],
 "metadata": {
  "kernelspec": {
   "display_name": "Python 3 (ipykernel)",
   "language": "python",
   "name": "python3"
  },
  "language_info": {
   "codemirror_mode": {
    "name": "ipython",
    "version": 3
   },
   "file_extension": ".py",
   "mimetype": "text/x-python",
   "name": "python",
   "nbconvert_exporter": "python",
   "pygments_lexer": "ipython3",
   "version": "3.10.12"
  }
 },
 "nbformat": 4,
 "nbformat_minor": 5
}
